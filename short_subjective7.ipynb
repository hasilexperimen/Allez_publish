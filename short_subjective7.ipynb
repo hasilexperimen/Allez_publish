{
 "cells": [
  {
   "cell_type": "code",
   "execution_count": 1,
   "id": "58be01be-6485-49cc-a0a8-519a81bb4e22",
   "metadata": {},
   "outputs": [],
   "source": [
    "exp_Q1 = [5,3,4,5,4,3,5]"
   ]
  },
  {
   "cell_type": "code",
   "execution_count": 2,
   "id": "09b80b1c-1337-4a6a-adfd-d43cc71d5654",
   "metadata": {},
   "outputs": [],
   "source": [
    "control_Q1 = [3,4,2,2,3]"
   ]
  },
  {
   "cell_type": "code",
   "execution_count": 3,
   "id": "53646be7-bfd7-42a6-88ba-ba00c721c744",
   "metadata": {},
   "outputs": [
    {
     "name": "stdout",
     "output_type": "stream",
     "text": [
      "Statistics=30.000, p=0.044\n",
      "Different distribution (reject H0)\n"
     ]
    }
   ],
   "source": [
    "    #https://www.google.com/search?q=non+parametric+test+using+pyhon&num=10&newwindow=1&sca_esv=819f551c3d47b554&sxsrf=AHTn8zrsppiicBIXJmLPgOSiNW5_LoJMdg%3A1747299279053&ei=z6slaN7_AuuMseMPqIjTqAk&ved=0ahUKEwieo-CGjaWNAxVrRmwGHSjEFJUQ4dUDCBA&uact=5&oq=non+parametric+test+using+pyhon&gs_lp=Egxnd3Mtd2l6LXNlcnAiH25vbiBwYXJhbWV0cmljIHRlc3QgdXNpbmcgcHlob24yBhAAGBYYHjILEAAYgAQYhgMYigUyCxAAGIAEGIYDGIoFMgsQABiABBiGAxiKBTIIEAAYgAQYogQyCBAAGKIEGIkFSPgZUI8GWI8YcAF4AZABAJgBuQGgAYALqgEEMC4xMLgBA8gBAPgBAZgCC6ACmgvCAgoQABiwAxjWBBhHwgIEECMYJ8ICBRAAGO8FmAMAiAYBkAYIkgcEMS4xMKAHpEKyBwQwLjEwuAeXC8IHBDAuMTHIBxY&sclient=gws-wiz-serp\n",
    "    from scipy.stats import mannwhitneyu\n",
    "    \n",
    "    data1 = exp_Q1\n",
    "    data2 = control_Q1\n",
    "    \n",
    "    stat, p = mannwhitneyu(data1, data2)\n",
    "    print('Statistics=%.3f, p=%.3f' % (stat, p))\n",
    "    \n",
    "    alpha = 0.05\n",
    "    if p > alpha:\n",
    "        print('Same distribution (fail to reject H0)')\n",
    "    else:\n",
    "        print('Different distribution (reject H0)')"
   ]
  },
  {
   "cell_type": "code",
   "execution_count": null,
   "id": "ed5683e2-5b90-4884-ab88-7729307bfc5c",
   "metadata": {},
   "outputs": [],
   "source": []
  }
 ],
 "metadata": {
  "kernelspec": {
   "display_name": "Python 3 (ipykernel)",
   "language": "python",
   "name": "python3"
  },
  "language_info": {
   "codemirror_mode": {
    "name": "ipython",
    "version": 3
   },
   "file_extension": ".py",
   "mimetype": "text/x-python",
   "name": "python",
   "nbconvert_exporter": "python",
   "pygments_lexer": "ipython3",
   "version": "3.11.7"
  }
 },
 "nbformat": 4,
 "nbformat_minor": 5
}
